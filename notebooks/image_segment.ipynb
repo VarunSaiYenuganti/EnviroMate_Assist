{
 "cells": [
  {
   "cell_type": "code",
   "execution_count": 1,
   "metadata": {},
   "outputs": [
    {
     "name": "stdout",
     "output_type": "stream",
     "text": [
      "C:\\Users\\Varun Sai\\EnviroMate_Assist\\deployment_components\\backend\n",
      "<fastsam.model.FastSAM object at 0x00000229A95BBF10>\n"
     ]
    }
   ],
   "source": [
    "%cd C:/Users/Varun Sai/EnviroMate_Assist/deployment_components/backend\n",
    "from fastsam import FastSAM, FastSAMPrompt\n",
    "\n",
    "model = FastSAM('C:/Users/Varun Sai/EnviroMate_Assist/notebooks/weights/FastSAM-s.pt')\n",
    "IMAGE_PATH = 'C:/Users/Varun Sai/EnviroMate_Assist/data/input_images/table_clutter-1.jpg'\n",
    "DEVICE = 'cpu'\n",
    "print(model)"
   ]
  },
  {
   "cell_type": "code",
   "execution_count": 2,
   "metadata": {},
   "outputs": [
    {
     "name": "stderr",
     "output_type": "stream",
     "text": [
      "\n",
      "image 1/1 C:\\Users\\Varun Sai\\EnviroMate_Assist\\data\\input_images\\table_clutter-1.jpg: 448x640 80 objects, 474.9ms\n",
      "Speed: 8.4ms preprocess, 474.9ms inference, 153.2ms postprocess per image at shape (1, 3, 448, 640)\n"
     ]
    }
   ],
   "source": [
    "result = model.predict(source=IMAGE_PATH)"
   ]
  },
  {
   "cell_type": "code",
   "execution_count": 3,
   "metadata": {},
   "outputs": [],
   "source": [
    "masks = result[0].masks.data"
   ]
  },
  {
   "cell_type": "code",
   "execution_count": 4,
   "metadata": {},
   "outputs": [
    {
     "data": {
      "image/png": "[encoded data removed]",
      "text/plain": [
       "<Figure size 1000x1000 with 80 Axes>"
      ]
     },
     "metadata": {},
     "output_type": "display_data"
    }
   ],
   "source": [
    "import matplotlib.pyplot as plt\n",
    "import torch  # Assuming you're using PyTorch\n",
    "\n",
    "def plot_slices(tensor_data, num_cols=4, figsize=(10, 10), cmap='gray'):\n",
    "    num_slices = tensor_data.shape[0]\n",
    "    num_rows = (num_slices + num_cols - 1) // num_cols  # Calculate the number of rows needed\n",
    "    \n",
    "    fig, axes = plt.subplots(num_rows, num_cols, figsize=figsize)\n",
    "    \n",
    "    for i in range(num_slices):\n",
    "        row = i // num_cols\n",
    "        col = i % num_cols\n",
    "        \n",
    "        slice_to_plot = tensor_data[i]\n",
    "        ax = axes[row, col]\n",
    "        ax.imshow(slice_to_plot, cmap=cmap)\n",
    "        ax.axis('off')  # Turn off axis labels and ticks\n",
    "        \n",
    "    # Remove any empty subplots\n",
    "    for i in range(num_slices, num_rows * num_cols):\n",
    "        row = i // num_cols\n",
    "        col = i % num_cols\n",
    "        fig.delaxes(axes[row, col])\n",
    "    \n",
    "    plt.tight_layout()\n",
    "    plt.show()\n",
    "\n",
    "\n",
    "# Call the function to plot slices\n",
    "plot_slices(result[0].masks.data)\n"
   ]
  },
  {
   "cell_type": "code",
   "execution_count": 5,
   "metadata": {},
   "outputs": [],
   "source": [
    "from PIL import Image\n",
    "import numpy as np\n",
    "\n",
    "def crop_image_using_tensor(tensor, image_path):\n",
    "    \"\"\"\n",
    "    Crop an image using tensor slices as masks with transparent backgrounds.\n",
    "\n",
    "    Parameters:\n",
    "    - tensor: a tensor where each slice is a mask. Can be a numpy ndarray or a PyTorch tensor.\n",
    "    - image_path (str): path to the image to be cropped.\n",
    "\n",
    "    Returns:\n",
    "    - List[Image.Image]: list of cropped image segments.\n",
    "    \"\"\"\n",
    "    \n",
    "    # Convert tensor to numpy if it's a PyTorch tensor\n",
    "    if hasattr(tensor, \"cpu\") and hasattr(tensor, \"numpy\"):\n",
    "        tensor = tensor.cpu().numpy()\n",
    "\n",
    "    # Load image using PIL and convert to RGBA\n",
    "    img = Image.open(image_path).convert('RGBA')\n",
    "    original_area = img.width * img.height\n",
    "    cropped_segments = []\n",
    "    for mask_slice in tensor:\n",
    "\n",
    "\n",
    "        # Convert tensor slice to numpy array and then to PIL Image\n",
    "        mask = Image.fromarray((mask_slice * 255).astype(np.uint8)).resize(img.size).convert(\"L\")\n",
    "        \n",
    "        mask_np = np.array(mask)\n",
    "        mask_area = np.sum(mask_np > 0)\n",
    "\n",
    "\n",
    "        if (0.011 * original_area <= mask_area) and (mask_area <= 0.5 * original_area):\n",
    "            \n",
    "            # Use a transparent image for compositing\n",
    "            transparent_img = Image.new('RGBA', img.size, (0, 0, 0, 0))\n",
    "            \n",
    "            # Composite images\n",
    "            cropped_segment = Image.composite(img, transparent_img, mask)\n",
    "            \n",
    "            # Find bounding box of the mask to further crop unnecessary parts\n",
    "            bbox = mask.getbbox()\n",
    "            if bbox:\n",
    "                cropped_segment = cropped_segment.crop(bbox)\n",
    "                cropped_segments.append(cropped_segment)\n",
    "        else:\n",
    "            print(f\"Mask area {mask_area} is not within the desired range. Skipping...\")\n",
    "\n",
    "    return cropped_segments\n"
   ]
  },
  {
   "cell_type": "code",
   "execution_count": 6,
   "metadata": {},
   "outputs": [
    {
     "name": "stdout",
     "output_type": "stream",
     "text": [
      "Mask area 13529 is not within the desired range. Skipping...\n",
      "Mask area 9400 is not within the desired range. Skipping...\n",
      "Mask area 17737 is not within the desired range. Skipping...\n",
      "Mask area 7255 is not within the desired range. Skipping...\n",
      "Mask area 3365 is not within the desired range. Skipping...\n",
      "Mask area 5356 is not within the desired range. Skipping...\n",
      "Mask area 2980 is not within the desired range. Skipping...\n",
      "Mask area 7414 is not within the desired range. Skipping...\n",
      "Mask area 1045 is not within the desired range. Skipping...\n",
      "Mask area 11555 is not within the desired range. Skipping...\n",
      "Mask area 2132 is not within the desired range. Skipping...\n",
      "Mask area 11082 is not within the desired range. Skipping...\n",
      "Mask area 6117 is not within the desired range. Skipping...\n",
      "Mask area 11684 is not within the desired range. Skipping...\n",
      "Mask area 3618 is not within the desired range. Skipping...\n",
      "Mask area 10603 is not within the desired range. Skipping...\n",
      "Mask area 15609 is not within the desired range. Skipping...\n",
      "Mask area 4106 is not within the desired range. Skipping...\n",
      "Mask area 17152 is not within the desired range. Skipping...\n",
      "Mask area 478 is not within the desired range. Skipping...\n",
      "Mask area 1193 is not within the desired range. Skipping...\n",
      "Mask area 2846 is not within the desired range. Skipping...\n",
      "Mask area 4042 is not within the desired range. Skipping...\n",
      "Mask area 11939 is not within the desired range. Skipping...\n",
      "Mask area 10426 is not within the desired range. Skipping...\n",
      "Mask area 9400 is not within the desired range. Skipping...\n",
      "Mask area 4395 is not within the desired range. Skipping...\n",
      "Mask area 1949 is not within the desired range. Skipping...\n",
      "Mask area 1098 is not within the desired range. Skipping...\n",
      "Mask area 4012 is not within the desired range. Skipping...\n",
      "Mask area 3509 is not within the desired range. Skipping...\n",
      "Mask area 5653 is not within the desired range. Skipping...\n",
      "Mask area 10874 is not within the desired range. Skipping...\n",
      "Mask area 1808 is not within the desired range. Skipping...\n",
      "Mask area 1282 is not within the desired range. Skipping...\n",
      "Mask area 2861 is not within the desired range. Skipping...\n",
      "Mask area 945 is not within the desired range. Skipping...\n",
      "Mask area 4966 is not within the desired range. Skipping...\n",
      "Mask area 3256 is not within the desired range. Skipping...\n",
      "Mask area 1003 is not within the desired range. Skipping...\n",
      "Mask area 501 is not within the desired range. Skipping...\n",
      "Mask area 2462 is not within the desired range. Skipping...\n",
      "Mask area 1992 is not within the desired range. Skipping...\n",
      "Mask area 7678 is not within the desired range. Skipping...\n",
      "Mask area 935 is not within the desired range. Skipping...\n",
      "Mask area 2134 is not within the desired range. Skipping...\n",
      "Mask area 375 is not within the desired range. Skipping...\n",
      "Mask area 3874 is not within the desired range. Skipping...\n",
      "Mask area 654 is not within the desired range. Skipping...\n",
      "Mask area 2004 is not within the desired range. Skipping...\n",
      "Mask area 2129 is not within the desired range. Skipping...\n",
      "Mask area 11719 is not within the desired range. Skipping...\n",
      "Mask area 6329 is not within the desired range. Skipping...\n",
      "Mask area 1890 is not within the desired range. Skipping...\n",
      "Mask area 2111 is not within the desired range. Skipping...\n",
      "Mask area 17460 is not within the desired range. Skipping...\n",
      "Mask area 7605 is not within the desired range. Skipping...\n",
      "Mask area 1214 is not within the desired range. Skipping...\n",
      "Mask area 9565 is not within the desired range. Skipping...\n",
      "Mask area 7426 is not within the desired range. Skipping...\n"
     ]
    }
   ],
   "source": [
    "cropped_segments = crop_image_using_tensor(masks,IMAGE_PATH)"
   ]
  },
  {
   "cell_type": "code",
   "execution_count": 7,
   "metadata": {},
   "outputs": [
    {
     "name": "stdout",
     "output_type": "stream",
     "text": [
      "['C:/Users/Varun Sai/EnviroMate_Assist/data/segmented_images-1\\\\segment_1.png', 'C:/Users/Varun Sai/EnviroMate_Assist/data/segmented_images-1\\\\segment_2.png', 'C:/Users/Varun Sai/EnviroMate_Assist/data/segmented_images-1\\\\segment_3.png', 'C:/Users/Varun Sai/EnviroMate_Assist/data/segmented_images-1\\\\segment_4.png', 'C:/Users/Varun Sai/EnviroMate_Assist/data/segmented_images-1\\\\segment_5.png', 'C:/Users/Varun Sai/EnviroMate_Assist/data/segmented_images-1\\\\segment_6.png', 'C:/Users/Varun Sai/EnviroMate_Assist/data/segmented_images-1\\\\segment_7.png', 'C:/Users/Varun Sai/EnviroMate_Assist/data/segmented_images-1\\\\segment_8.png', 'C:/Users/Varun Sai/EnviroMate_Assist/data/segmented_images-1\\\\segment_9.png', 'C:/Users/Varun Sai/EnviroMate_Assist/data/segmented_images-1\\\\segment_10.png', 'C:/Users/Varun Sai/EnviroMate_Assist/data/segmented_images-1\\\\segment_11.png', 'C:/Users/Varun Sai/EnviroMate_Assist/data/segmented_images-1\\\\segment_12.png', 'C:/Users/Varun Sai/EnviroMate_Assist/data/segmented_images-1\\\\segment_13.png', 'C:/Users/Varun Sai/EnviroMate_Assist/data/segmented_images-1\\\\segment_14.png', 'C:/Users/Varun Sai/EnviroMate_Assist/data/segmented_images-1\\\\segment_15.png', 'C:/Users/Varun Sai/EnviroMate_Assist/data/segmented_images-1\\\\segment_16.png', 'C:/Users/Varun Sai/EnviroMate_Assist/data/segmented_images-1\\\\segment_17.png', 'C:/Users/Varun Sai/EnviroMate_Assist/data/segmented_images-1\\\\segment_18.png', 'C:/Users/Varun Sai/EnviroMate_Assist/data/segmented_images-1\\\\segment_19.png', 'C:/Users/Varun Sai/EnviroMate_Assist/data/segmented_images-1\\\\segment_20.png']\n"
     ]
    }
   ],
   "source": [
    "\n",
    "from PIL import Image\n",
    "import os\n",
    "\n",
    "def save_cropped_segments(cropped_segments, output_directory, base_filename=\"segment_\"):\n",
    "    \"\"\"\n",
    "    Save cropped image segments to the specified directory.\n",
    "\n",
    "    Parameters:\n",
    "    - cropped_segments (List[Image.Image]): list of cropped image segments.\n",
    "    - output_directory (str): path to the directory where the segments should be saved.\n",
    "    - base_filename (str, optional): base name for the cropped files. Defaults to \"segment_\".\n",
    "    \n",
    "    Returns:\n",
    "    - List[str]: list of file paths where segments are saved.\n",
    "    \"\"\"\n",
    "\n",
    "    # Ensure output directory exists\n",
    "    if not os.path.exists(output_directory):\n",
    "        os.makedirs(output_directory)\n",
    "\n",
    "    saved_files = []\n",
    "\n",
    "    for idx, segment in enumerate(cropped_segments, 1):\n",
    "        filename = f\"{base_filename}{idx}.png\"\n",
    "        file_path = os.path.join(output_directory, filename)\n",
    "        segment.save(file_path)\n",
    "        saved_files.append(file_path)\n",
    "\n",
    "    return saved_files\n",
    "\n",
    "output_dir = \"C:/Users/Varun Sai/EnviroMate_Assist/data/segmented_images-1\"\n",
    "saved_file_paths = save_cropped_segments(cropped_segments, output_dir)\n",
    "print(saved_file_paths)  # This will print out the paths where the segments were saved\n",
    "\n"
   ]
  },
  {
   "cell_type": "code",
   "execution_count": null,
   "metadata": {},
   "outputs": [],
   "source": []
  }
 ],
 "metadata": {
  "kernelspec": {
   "display_name": "Python 3 (ipykernel)",
   "language": "python",
   "name": "python3"
  },
  "language_info": {
   "codemirror_mode": {
    "name": "ipython",
    "version": 3
   },
   "file_extension": ".py",
   "mimetype": "text/x-python",
   "name": "python",
   "nbconvert_exporter": "python",
   "pygments_lexer": "ipython3",
   "version": "3.8.16"
  },
  "vscode": {
   "interpreter": {
    "hash": "ab3b3c3d66fd621a61ae2bd092315f8a3c3e0f1b30a64eb0295ffe2404ced91e"
   }
  }
 },
 "nbformat": 4,
 "nbformat_minor": 4
}
